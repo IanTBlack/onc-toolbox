{
 "cells": [
  {
   "cell_type": "code",
   "id": "initial_id",
   "metadata": {
    "collapsed": true,
    "ExecuteTime": {
     "end_time": "2025-09-04T18:57:17.686556Z",
     "start_time": "2025-09-04T18:57:16.844246Z"
    }
   },
   "source": [
    "import cartopy.crs as ccrs\n",
    "from datetime import datetime, timedelta,timezone\n",
    "import gsw\n",
    "import matplotlib.pyplot as plt\n",
    "from matplotlib.dates import HourLocator, DateFormatter\n",
    "import xarray as xr\n",
    "\n",
    "from ONCToolbox import ONCToolbox\n",
    "from ONCToolbox.utils import nan_onc_flags, remove_onc_flag_vars\n",
    "from ONCToolbox.qaqc import location_test,gross_range_test, spike_test, flat_line_test, rate_of_change_test\n",
    "\n",
    "\n",
    "from ONCToolbox.utils.profilers import split_periods\n",
    "from ONCToolbox.utils.locations import BCFTerminal"
   ],
   "outputs": [],
   "execution_count": 1
  },
  {
   "metadata": {
    "ExecuteTime": {
     "end_time": "2025-09-04T18:57:19.471927Z",
     "start_time": "2025-09-04T18:57:17.686556Z"
    }
   },
   "cell_type": "code",
   "source": [
    "begin_datetime = datetime(2025,7,4)\n",
    "end_datetime = datetime(2025,7,4,23,59,59,999999)\n",
    "\n",
    "onct = ONCToolbox()\n",
    "\n",
    "doi = onct.find_data('BACVP', ['CTD'], begin_datetime, end_datetime)"
   ],
   "id": "964c00c3556107e5",
   "outputs": [],
   "execution_count": 2
  },
  {
   "metadata": {
    "ExecuteTime": {
     "end_time": "2025-09-04T18:57:58.648092Z",
     "start_time": "2025-09-04T18:57:19.471927Z"
    }
   },
   "cell_type": "code",
   "source": [
    "datasets = []\n",
    "for loc_code, dev_deps in doi.items():\n",
    "    for dcc, dep_info in dev_deps.items():\n",
    "        data = onct.get_data(loc_code, dcc, begin_datetime=begin_datetime,end_datetime=end_datetime)\n",
    "        datasets.append(data)\n",
    "ds = xr.combine_by_coords(datasets, combine_attrs='drop_conflicts')\n",
    "ds = remove_onc_flag_vars(ds) # Remove variables prepended with 'flag_' because we will rerun QAQC tests."
   ],
   "id": "ec073d6c97d48a82",
   "outputs": [
    {
     "name": "stdout",
     "output_type": "stream",
     "text": [
      "Data quantity is greater than the row limit and will be downloaded in multiple pages.\n",
      "Downloading time for the first page: 10 seconds\n",
      "Estimated approx. 4 pages in total.\n",
      "Estimated approx. 31 seconds to complete for the rest of the pages.\n",
      "\n",
      "   (100000 samples) Downloading page 2...\n",
      "   (200000 samples) Downloading page 3...\n",
      "   (300000 samples) Downloading page 4...\n",
      "   (329145 samples) Completed in 35 seconds.\n"
     ]
    }
   ],
   "execution_count": 3
  },
  {
   "metadata": {
    "ExecuteTime": {
     "end_time": "2025-09-04T18:57:58.658187Z",
     "start_time": "2025-09-04T18:57:58.648092Z"
    }
   },
   "cell_type": "code",
   "source": [
    "ds = ds.drop_vars(['density','depth','practical_salinity','sigma-t','sigma-theta_0_dbar','sound_speed'], errors = 'ignore')\n",
    "ds = ds.rename({'conductivity':'sea_water_electrical_conductivity', 'temperature':'sea_water_temperature', 'pressure':'sea_water_pressure'})"
   ],
   "id": "6276f2bc428d5993",
   "outputs": [],
   "execution_count": 4
  },
  {
   "metadata": {},
   "cell_type": "markdown",
   "source": [
    "## QAQC\n",
    "\n",
    "Say we are interested in data that from when the VPS is parked at the bottom.\n",
    "In this example, we will run some QAQC tests. Using the flat line test and the gross range test we can identify when the VPS is at the bottom. Note that the operator range is set to flag pressure data outside of 360-400 dbar."
   ],
   "id": "2206df032808da0a"
  },
  {
   "metadata": {
    "ExecuteTime": {
     "end_time": "2025-09-04T18:57:58.863797Z",
     "start_time": "2025-09-04T18:57:58.658187Z"
    }
   },
   "cell_type": "code",
   "source": [
    "ranges = {\n",
    "    'sea_water_electrical_conductivity': {'gross_range': [0, 7], 'operator_range': [2, 6.5]},\n",
    "    'sea_water_temperature': {'gross_range': [-5, 35], 'operator_range': [1, 30]},\n",
    "    'sea_water_pressure': {'gross_range': [0, 500], 'operator_range': [390, 400]},\n",
    "}\n",
    "\n",
    "for dv in ['sea_water_electrical_conductivity', 'sea_water_temperature', 'sea_water_pressure']:\n",
    "    ds['flag_gross_range_'+dv] = gross_range_test(ds[dv],sensor_min = ranges[dv]['gross_range'][0], sensor_max = ranges[dv]['gross_range'][1],\n",
    "                                      operator_min= ranges[dv]['operator_range'][0], operator_max = ranges[dv]['operator_range'][1])\n",
    "    ds['flag_spike_'+dv] = spike_test(ds[dv])\n",
    "    ds['flag_flat_line_'+dv] = flat_line_test(ds[dv])"
   ],
   "id": "5abc5f799e92bfe4",
   "outputs": [],
   "execution_count": 5
  },
  {
   "metadata": {
    "ExecuteTime": {
     "end_time": "2025-09-04T18:57:58.894462Z",
     "start_time": "2025-09-04T18:57:58.863797Z"
    }
   },
   "cell_type": "code",
   "source": "ds = ds.where(ds.flag_gross_range_sea_water_pressure == 1, drop = True) # Remove data outside of operator range.",
   "id": "f51667bc73fd76ee",
   "outputs": [],
   "execution_count": 6
  },
  {
   "metadata": {},
   "cell_type": "code",
   "outputs": [],
   "execution_count": null,
   "source": "",
   "id": "17073ee2d4537f84"
  }
 ],
 "metadata": {
  "kernelspec": {
   "display_name": "Python 3",
   "language": "python",
   "name": "python3"
  },
  "language_info": {
   "codemirror_mode": {
    "name": "ipython",
    "version": 2
   },
   "file_extension": ".py",
   "mimetype": "text/x-python",
   "name": "python",
   "nbconvert_exporter": "python",
   "pygments_lexer": "ipython2",
   "version": "2.7.6"
  }
 },
 "nbformat": 4,
 "nbformat_minor": 5
}
