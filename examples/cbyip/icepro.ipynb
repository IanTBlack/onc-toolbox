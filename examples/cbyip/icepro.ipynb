{
 "cells": [
  {
   "cell_type": "code",
   "id": "initial_id",
   "metadata": {
    "collapsed": true,
    "ExecuteTime": {
     "end_time": "2025-09-17T18:54:55.198053Z",
     "start_time": "2025-09-17T18:54:54.030127Z"
    }
   },
   "source": [
    "from datetime import datetime\n",
    "import gsw\n",
    "from matplotlib.dates import DateFormatter,HourLocator, YearLocator, MonthLocator, DayLocator\n",
    "import matplotlib.pyplot as plt\n",
    "from matplotlib.ticker import MultipleLocator\n",
    "import numpy as np\n",
    "import pandas as pd\n",
    "import xarray as xr\n",
    "\n",
    "from ONCToolbox import ONCToolbox"
   ],
   "outputs": [],
   "execution_count": 3
  },
  {
   "metadata": {
    "ExecuteTime": {
     "end_time": "2025-09-17T18:54:55.209554Z",
     "start_time": "2025-09-17T18:54:55.205290Z"
    }
   },
   "cell_type": "code",
   "source": [
    "loc_code = 'CBYIP'\n",
    "resample_type = 'avg'\n",
    "resample_period = 86400\n",
    "out_as = 'xarray'\n",
    "add_metadata = True\n",
    "\n",
    "# Instantiate ONCToolbox class.\n",
    "onct = ONCToolbox(timeout = 60 * 30)\n",
    "\n",
    "# Year range to obtain data for.\n",
    "years = range(2012, datetime.now().year + 1)"
   ],
   "id": "a323cfde801768b1",
   "outputs": [],
   "execution_count": 4
  },
  {
   "metadata": {},
   "cell_type": "markdown",
   "source": "## Obtain Ice Profiler Data",
   "id": "de47d340c3169a30"
  },
  {
   "metadata": {
    "ExecuteTime": {
     "end_time": "2025-09-17T19:05:23.668293Z",
     "start_time": "2025-09-17T18:54:55.501559Z"
    }
   },
   "cell_type": "code",
   "source": [
    "dss = []\n",
    "for year in years:\n",
    "    date_from = datetime(year,1,1,0,0,0,0)\n",
    "    date_to = datetime(year,12,31,23,59,59,999999)\n",
    "    try: # Use try-catch because we are too lazy to look up info using deployments endpoint.\n",
    "        _ds = onct.get_clean_data(location_code=loc_code,\n",
    "                                  device_category_code='ICEPROFILER',\n",
    "                                  resample_type=resample_type,\n",
    "                                  resample_period = resample_period,\n",
    "                                  date_from=date_from,\n",
    "                                  date_to=date_to,\n",
    "                                  out_as=out_as,\n",
    "                                  add_metadata=add_metadata)\n",
    "    except:\n",
    "        continue\n",
    "    _ds = _ds.drop_vars([dv for dv in _ds.data_vars if dv.startswith('qaqc_flag')],errors = 'ignore')\n",
    "    dss.append(_ds)\n",
    "icepro = xr.concat(dss, dim = 'time',combine_attrs = 'drop_conflicts', join = 'outer', data_vars='all')\n",
    "icepro = icepro.drop_duplicates(dim = 'time', keep = 'first')\n",
    "icepro = icepro.sortby('time')"
   ],
   "id": "a6c7e38db9d1bda9",
   "outputs": [],
   "execution_count": 5
  },
  {
   "metadata": {},
   "cell_type": "markdown",
   "source": "## Obtain TS Data 2012-2013",
   "id": "347e182f7408fa51"
  },
  {
   "metadata": {
    "ExecuteTime": {
     "end_time": "2025-09-17T19:06:53.515413Z",
     "start_time": "2025-09-17T19:05:23.755822Z"
    }
   },
   "cell_type": "code",
   "source": [
    "date_from = datetime(2012,1,1,0,0,0,0)\n",
    "date_to = datetime(2015,12,31,23,59,59,999999)\n",
    "\n",
    "_ds = onct.get_clean_data(location_code=loc_code,\n",
    "                          device_category_code='WETLABS_WQM',\n",
    "                          resample_type=resample_type,\n",
    "                          resample_period = resample_period,\n",
    "                          date_from=date_from,\n",
    "                          date_to=date_to,\n",
    "                          out_as=out_as,\n",
    "                          add_metadata=add_metadata)\n",
    "_ds = _ds.drop_vars([dv for dv in _ds.data_vars if dv.startswith('qaqc_flag')],errors = 'ignore')\n",
    "\n",
    "## Only keep variables that will help compute sea water density.\n",
    "_ds = _ds[['practical_salinity','temperature','pressure','conductivity']]\n",
    "\n",
    "# Rename variables to CF-compliant names so there are no conflicts when merging with ice profiler data.\n",
    "_ds = _ds.rename({'conductivity': 'sea_water_electrical_conductivity',\n",
    "                'temperature': 'sea_water_temperature',\n",
    "                'practical_salinity': 'sea_water_practical_salinity',\n",
    "                'pressure': 'sea_water_pressure'})\n",
    "\n",
    "# Compute absolute salinity. Lat/lon are stored as attributes of the dataset, hence the 'add_metadata' kwarg in the get_clean_data() call.\n",
    "sa = gsw.SA_from_SP(_ds.sea_water_practical_salinity, _ds.sea_water_pressure, _ds.attrs['lon'], _ds.attrs['lat'])\n",
    "\n",
    "# Compute conservative temperature.\n",
    "ct = gsw.CT_from_t(sa, _ds.sea_water_temperature, _ds.sea_water_pressure)\n",
    "\n",
    "# Compute density and spiciness.\n",
    "_ds['sea_water_density'] = gsw.density.rho(sa, ct, _ds.sea_water_pressure)\n",
    "_ds['spiciness0'] = gsw.spiciness0(sa, ct)\n",
    "\n",
    "wqm = _ds"
   ],
   "id": "1dc2b85132aade66",
   "outputs": [],
   "execution_count": 6
  },
  {
   "metadata": {
    "ExecuteTime": {
     "end_time": "2025-09-17T14:45:19.144318Z",
     "start_time": "2025-09-17T14:45:19.140325Z"
    }
   },
   "cell_type": "markdown",
   "source": "## Obtain CTD Data 2014-Present",
   "id": "89def62c0e430531"
  },
  {
   "metadata": {
    "ExecuteTime": {
     "end_time": "2025-09-17T19:12:52.433721Z",
     "start_time": "2025-09-17T19:06:53.581753Z"
    }
   },
   "cell_type": "code",
   "source": [
    "dss = []\n",
    "for year in years:\n",
    "    date_from = datetime(year,1,1,0,0,0,0)\n",
    "    date_to = datetime(year,12,31,23,59,59,999999)\n",
    "    try: # Use try-catch because we are too lazy to look up info using deployments endpoint.\n",
    "        _ds = onct.get_clean_data(location_code=loc_code,\n",
    "                                  device_category_code='CTD',\n",
    "                                  resample_type=resample_type,\n",
    "                                  resample_period = resample_period,\n",
    "                                  date_from=date_from,\n",
    "                                  date_to=date_to,\n",
    "                                  out_as=out_as,\n",
    "                                  add_metadata=add_metadata)\n",
    "    except:\n",
    "        continue\n",
    "    _ds = _ds.drop_vars([dv for dv in _ds.data_vars if dv.startswith('qaqc_flag')],errors = 'ignore')\n",
    "\n",
    "    # Remove old variables that can be recomputed later.\n",
    "    _ds = _ds.drop_vars(['sigma-t','sigma-theta_0_dbar','sound_speed','density'], errors = 'ignore')\n",
    "\n",
    "    # Rename variables to CF-compliant names so there are no conflicts when merging with ice profiler data.\n",
    "    _ds = _ds.rename({'conductivity': 'sea_water_electrical_conductivity',\n",
    "                    'temperature': 'sea_water_temperature',\n",
    "                    'practical_salinity': 'sea_water_practical_salinity',\n",
    "                    'pressure': 'sea_water_pressure'})\n",
    "\n",
    "    # Compute absolute salinity. Lat/lon are stored as attributes of the dataset, hence the 'add_metadata' kwarg in the get_clean_data() call.\n",
    "    sa = gsw.SA_from_SP(_ds.sea_water_practical_salinity, _ds.sea_water_pressure, _ds.attrs['lon'], _ds.attrs['lat'])\n",
    "\n",
    "    # Compute conservative temperature.\n",
    "    ct = gsw.CT_from_t(sa, _ds.sea_water_temperature, _ds.sea_water_pressure)\n",
    "\n",
    "    # Compute density and spiciness.\n",
    "    _ds['sea_water_density'] = gsw.density.rho(sa, ct, _ds.sea_water_pressure)\n",
    "    _ds['spiciness0'] = gsw.spiciness0(sa, ct)\n",
    "\n",
    "    dss.append(_ds)\n",
    "ctd = xr.concat(dss, dim = 'time',combine_attrs = 'drop_conflicts', join = 'outer', data_vars='all')\n",
    "ctd = ctd.drop_duplicates(dim = 'time', keep = 'first')\n",
    "ctd = ctd.sortby('time')"
   ],
   "id": "db9b835f33b2d73c",
   "outputs": [],
   "execution_count": 7
  },
  {
   "metadata": {
    "ExecuteTime": {
     "end_time": "2025-09-17T19:12:52.526948Z",
     "start_time": "2025-09-17T19:12:52.510316Z"
    }
   },
   "cell_type": "code",
   "source": [
    "combo = xr.combine_by_coords([icepro, ctd, wqm], combine_attrs='drop_conflicts', join='outer', data_vars = 'all', compat = 'no_conflicts')\n",
    "combo = combo.dropna(dim = 'time', how = 'all')"
   ],
   "id": "8c04bafb553f5d92",
   "outputs": [],
   "execution_count": 8
  },
  {
   "metadata": {
    "ExecuteTime": {
     "end_time": "2025-09-17T19:12:52.537092Z",
     "start_time": "2025-09-17T19:12:52.532297Z"
    }
   },
   "cell_type": "code",
   "source": [
    "local_ice_bulk_density = 917\n",
    "combo['ice_thickness'] = combo.ice_draft_corrected * (combo.sea_water_density/local_ice_bulk_density)"
   ],
   "id": "91974926720d38d9",
   "outputs": [],
   "execution_count": 9
  },
  {
   "metadata": {},
   "cell_type": "code",
   "outputs": [],
   "execution_count": null,
   "source": "",
   "id": "ef4f87ca988aff17"
  },
  {
   "metadata": {
    "ExecuteTime": {
     "end_time": "2025-09-17T16:37:15.724284Z",
     "start_time": "2025-09-17T16:37:15.714306Z"
    }
   },
   "cell_type": "code",
   "source": [
    "def circular_rolling_mean(da: xr.DataArray,\n",
    "                          half_window_width: int) -> xr.DataArray:\n",
    "    \"\"\"\n",
    "    This function allows for the rolling smoothing of the beginning and end of a climatology or threshold dataset,\n",
    "    which might otherwise be unsmoothed. Higher level wrapper users will rarely call this function directly.\n",
    "\n",
    "    Pitfalls: This function really only works if the input climatology/threshold data has a full year of data\n",
    "    and no significant gaps between ends. If only a part of a climatology dataset is provided (e.g. dayofyear 250-350),\n",
    "    then this function will inappropriately smooth the original dataset with the prepended and appended data.\n",
    "    If a subset of the climatology is needed, it is recommended that you subset after circular smoothing.\n",
    "\n",
    "    :param da: A dataset that represents a climatology or threshold dataset with a dayofyear coordinate.\n",
    "    :param half_window_width: The number of days to include on either side of the central day for smoothing.\n",
    "    :return: A smoothed dataset with the same dayofyear values as the original dataset.\n",
    "    \"\"\"\n",
    "\n",
    "    # Create a new dataset which can be prepended to the original for \"circular\" smoothing.\n",
    "    pre = da.copy(deep=True)\n",
    "    pre['dayofyear'] = da.dayofyear.min() - da.dayofyear\n",
    "    pre = pre.sortby('dayofyear')\n",
    "\n",
    "    # Create a new dataset which can be appended to the original data for \"circular\" smoothing.\n",
    "    post = da.copy(deep=True)\n",
    "    post['dayofyear'] = da.dayofyear.max() + da.dayofyear\n",
    "    post = post.sortby('dayofyear')\n",
    "\n",
    "    # Combine the original data with the prepended and appended data.\n",
    "    circ = xr.combine_by_coords([pre, da, post])\n",
    "\n",
    "    # Smooth the data with a rolling mean using the half window width.\n",
    "    rda = circ.rolling({'dayofyear': 2 * half_window_width + 1}, center=True).mean(skipna=True)\n",
    "    rda = rda.sel(dayofyear=da.dayofyear)  # Select the original dayofyear values for return.\n",
    "    rda = rda[da.name]  # Why does it become a dataset?\n",
    "    return rda\n",
    "\n",
    "def build_daily_climatology(data: xr.DataArray,\n",
    "                            half_window_width: int = 5,\n",
    "                            use_circular: bool = True,\n",
    "                            reference_begin_datetime: datetime = datetime(2012,1,1),\n",
    "                            reference_end_datetime: datetime | None= None ,\n",
    "                            reset_to_input_time: bool = False) -> xr.DataArray:\n",
    "    \"\"\"\n",
    "    Build a daily climatology from a reference period. The climatology is calculated on a 366 day year.\n",
    "    :param temperature: The input temperature DataArray.\n",
    "    :param half_window_width: The window half width for smoothing the climatology.\n",
    "    :param use_circular: Setting to True will wrap the climatology during smoothing.\n",
    "    :param reset_to_input_time: If True, the output climatology will be mapped to the time\n",
    "        coordinates of the original input dataset. At the moment this is only intended functionality\n",
    "        for Fixed Baseline analysis.\n",
    "    :return: An xr.DataArray representing the daily climatology.\n",
    "    \"\"\"\n",
    "\n",
    "    temperature = data.sel(time=slice(reference_begin_datetime,reference_end_datetime))\n",
    "    cda = temperature.groupby('time.dayofyear', restore_coord_dims=True).mean(skipna=True)\n",
    "\n",
    "    if use_circular is True:\n",
    "        rcda = circular_rolling_mean(cda, half_window_width)\n",
    "    else:\n",
    "        rcda = cda.rolling({'dayofyear': 2 * half_window_width + 1}, center=True).mean(skipna=True)\n",
    "        rcda = rcda.sel(dayofyear=cda.dayofyear)  # Select the original dayofyear values for return.\n",
    "\n",
    "    # Reset the time coordinate to the original input time for use in shifting or detrended baselines.\n",
    "    if reset_to_input_time is True:\n",
    "        reset_bins = []\n",
    "        years = np.unique(temperature.time.dt.year)\n",
    "        for year in years:\n",
    "            _aligned_rcda = rcda.copy(deep = True)\n",
    "            _aligned_rcda['time'] = (['dayofyear'], [datetime.strptime(f\"{year}-{int(dt)}\", '%Y-%j')\n",
    "                                                     for dt in _aligned_rcda.dayofyear.values.tolist()])\n",
    "            _aligned_rcda = _aligned_rcda.swap_dims({'dayofyear': 'time'})\n",
    "            _aligned_rcda = _aligned_rcda.drop_duplicates(dim = 'time', keep = 'last')\n",
    "            reset_bins.append(_aligned_rcda)\n",
    "        rcda = xr.combine_by_coords(reset_bins)\n",
    "        rcda = rcda[temperature.name]  # Why does it become a dataset?\n",
    "\n",
    "\n",
    "    # # Update attributes.\n",
    "    # rcda.name = f\"climatology_{rcda.name}\"\n",
    "    # rcda = assign_static_attributes(rcda)\n",
    "    # rcda.attrs['climatology_method'] = 'mean'\n",
    "    # rcda.attrs['climatology_half_window_smooth'] = half_window_width\n",
    "    # rcda.attrs['climatology_reference_begin'] = temperature.time.min().dt.strftime('%Y-%m-%d').values\n",
    "    # rcda.attrs['climatology_reference_end'] = temperature.time.max().dt.strftime('%Y-%m-%d').values\n",
    "    # rcda.attrs['climatology_reference_period'] = int((temperature.time.max().values -\n",
    "    #                                                   temperature.time.min().values).astype('timedelta64[Y]')) + 1\n",
    "    return rcda\n"
   ],
   "id": "f54cbee177e8b44c",
   "outputs": [],
   "execution_count": 9
  },
  {
   "metadata": {
    "ExecuteTime": {
     "end_time": "2025-09-17T16:37:22.947643Z",
     "start_time": "2025-09-17T16:37:21.707910Z"
    }
   },
   "cell_type": "code",
   "source": "clim = build_daily_climatology(combo.ice_thickness, half_window_width=5, use_circular = True)",
   "id": "6fec4749d6a45bc4",
   "outputs": [],
   "execution_count": 11
  },
  {
   "metadata": {
    "ExecuteTime": {
     "end_time": "2025-09-17T16:37:28.117998Z",
     "start_time": "2025-09-17T16:37:27.845459Z"
    }
   },
   "cell_type": "code",
   "source": [
    "fig, ax = plt.subplots(1,1, figsize = (6,5), constrained_layout = True)\n",
    "ax.plot(clim.dayofyear, clim)\n",
    "\n",
    "ax.set_xlim(0,366)\n",
    "ax.set_ylim(0, 2)\n",
    "ax.set_ylabel('Ice Thickness (m)')\n",
    "ax.set_xlabel('Day of Year')\n",
    "ax.set_title('Climatological Ice Thickness at CBYIP')\n",
    "plt.savefig('../figures/ice_thickness_example.jpg', dpi = 300)"
   ],
   "id": "2e5a89dd4330d307",
   "outputs": [
    {
     "data": {
      "text/plain": [
       "<Figure size 600x500 with 1 Axes>"
      ],
      "image/png": "[encoded data removed]"
     },
     "metadata": {},
     "output_type": "display_data",
     "jetTransient": {
      "display_id": null
     }
    }
   ],
   "execution_count": 12
  },
  {
   "metadata": {},
   "cell_type": "code",
   "outputs": [],
   "execution_count": null,
   "source": "",
   "id": "1e10032e033f34a1"
  }
 ],
 "metadata": {
  "kernelspec": {
   "display_name": "Python 3",
   "language": "python",
   "name": "python3"
  },
  "language_info": {
   "codemirror_mode": {
    "name": "ipython",
    "version": 2
   },
   "file_extension": ".py",
   "mimetype": "text/x-python",
   "name": "python",
   "nbconvert_exporter": "python",
   "pygments_lexer": "ipython2",
   "version": "2.7.6"
  }
 },
 "nbformat": 4,
 "nbformat_minor": 5
}
