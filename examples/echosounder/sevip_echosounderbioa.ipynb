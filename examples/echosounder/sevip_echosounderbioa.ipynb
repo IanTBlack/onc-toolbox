{
 "cells": [
  {
   "metadata": {},
   "cell_type": "markdown",
   "source": [
    "# Example: Download, Process, and Visualize AZFP Data from ONC\n",
    "\n",
    "In this example, you will download recent data from a bioacoustic sonar instrument located at ONC's Strait of Georgia Eas Venus Instrument Platform (SEVIP) site."
   ],
   "id": "2c7bc3e71a41caa9"
  },
  {
   "metadata": {
    "collapsed": true,
    "ExecuteTime": {
     "end_time": "2025-09-16T19:53:41.253212Z",
     "start_time": "2025-09-16T19:53:39.476489Z"
    }
   },
   "cell_type": "code",
   "source": [
    "from datetime import datetime,timezone, timedelta\n",
    "import echopype\n",
    "import gsw\n",
    "import numpy as np\n",
    "import os\n",
    "\n",
    "from ONCToolbox import ONCToolbox\n",
    "\n",
    "# Update SV_OFFSET to be compatible with some ONC AZFP deployments.\n",
    "# 0.9 is an arbitrary value for this example and should be verified with ASL and echopype before use in science.\n",
    "echopype.convert.parse_azfp.SV_OFFSET[38000.0][800] = 0.9"
   ],
   "id": "1cefd532f93955f9",
   "outputs": [],
   "execution_count": 1
  },
  {
   "metadata": {
    "ExecuteTime": {
     "end_time": "2025-09-16T19:53:41.261312Z",
     "start_time": "2025-09-16T19:53:41.257087Z"
    }
   },
   "cell_type": "code",
   "source": [
    "save_dir = 'onc_data'\n",
    "\n",
    "onct = ONCToolbox()\n",
    "\n",
    "# Set up for the request of the last hour of data.\n",
    "date_to = datetime.now(timezone.utc)\n",
    "date_from = date_to - timedelta(minutes = 10)"
   ],
   "id": "eeb9c420af0d8c44",
   "outputs": [],
   "execution_count": 2
  },
  {
   "metadata": {},
   "cell_type": "markdown",
   "source": [
    "## Download ONC Data\n",
    "\n",
    "Uncomment the following cell to download data for this example."
   ],
   "id": "cdaf89de2d1005bb"
  },
  {
   "metadata": {
    "ExecuteTime": {
     "end_time": "2025-09-16T19:54:54.098452Z",
     "start_time": "2025-09-16T19:53:41.261312Z"
    }
   },
   "cell_type": "code",
   "source": [
    "location_code = 'SEVIP.E3'\n",
    "device_category_code='ECHOSOUNDERBIOA'\n",
    "extension='01a'\n",
    "data_product_code='AAPTS'\n",
    "\n",
    "down = onct.request_and_download_data_product(location_code = location_code,\n",
    "                                              device_category_code=device_category_code,\n",
    "                                              extension=extension,\n",
    "                                              date_from = date_from, date_to = date_to,\n",
    "                                              data_product_code=data_product_code)"
   ],
   "id": "d9d98ffc36bcf129",
   "outputs": [
    {
     "name": "stdout",
     "output_type": "stream",
     "text": [
      "Request Id: 27211914\n",
      "Estimated File Size: 103 MB\n",
      "Estimated Processing Time: 5 min\n",
      "To cancel the running data product, run 'onc.cancelDataProduct(27211914)'\n",
      "\n",
      "   queued\n",
      "   data product running.........\n",
      "   3 files generated for this data product\n",
      "   complete\n",
      "\n",
      "Downloading data product files with runId 53763351...\n"
     ]
    }
   ],
   "execution_count": 3
  },
  {
   "metadata": {},
   "cell_type": "markdown",
   "source": "## Import the Downloaded AZFP Data",
   "id": "9e0a83e835f1677f"
  },
  {
   "metadata": {
    "ExecuteTime": {
     "end_time": "2025-09-16T19:54:54.397225Z",
     "start_time": "2025-09-16T19:54:54.241626Z"
    }
   },
   "cell_type": "code",
   "source": [
    "for file in down:\n",
    "    if file['file'].endswith('01a'):\n",
    "        raw_path = os.path.join(save_dir, file['file'])\n",
    "    elif file['file'].endswith('.xml') and 'META' not in file['file']:\n",
    "        xml_path = os.path.join(save_dir, file['file'])\n",
    "\n",
    "ed = echopype.open_raw(raw_path, sonar_model='AZFP', xml_path = xml_path)"
   ],
   "id": "d56c6c9656de5745",
   "outputs": [],
   "execution_count": 4
  },
  {
   "metadata": {},
   "cell_type": "markdown",
   "source": [
    "### Download Co-Located CTD Data\n",
    "\n",
    "Download co-located CTD data to enable correction for environmental variables. In this example, we use the mean for the hour time-series of AZFP data previously downloaded."
   ],
   "id": "a9f3be5c35b0e00b"
  },
  {
   "metadata": {
    "ExecuteTime": {
     "end_time": "2025-09-16T19:55:13.036065Z",
     "start_time": "2025-09-16T19:54:54.401278Z"
    }
   },
   "cell_type": "code",
   "source": [
    "location_code = 'SEVIP'\n",
    "device_category_code='CTD'\n",
    "ctd = onct.get_fullres_data(location_code = location_code,\n",
    "                            device_category_code = device_category_code,\n",
    "                            date_from = date_from, date_to = date_to, out_as = 'xarray', add_metadata = True)\n",
    "\n",
    "\n",
    "# Use CTD time-series mean for correction.\n",
    "mean_temp = float(ctd.temperature.mean())\n",
    "mean_sal = float(ctd.practical_salinity.mean())\n",
    "mean_pressure = float(ctd.pressure.mean())\n",
    "mean_depth = float(gsw.z_from_p(mean_pressure, ctd.attrs['lat']) * -1)\n",
    "\n",
    "environ_vars = {'temperature': mean_temp,\n",
    "                'salinity': mean_sal,\n",
    "                'pressure': mean_pressure}"
   ],
   "id": "47db82b3137df5da",
   "outputs": [],
   "execution_count": 5
  },
  {
   "metadata": {},
   "cell_type": "markdown",
   "source": "### Calibrate",
   "id": "8859ee3bb788fcbe"
  },
  {
   "metadata": {
    "ExecuteTime": {
     "end_time": "2025-09-16T19:55:13.135406Z",
     "start_time": "2025-09-16T19:55:13.079643Z"
    }
   },
   "cell_type": "code",
   "source": "sv = echopype.calibrate.compute_Sv(ed, env_params = environ_vars)",
   "id": "ae1756676bdede17",
   "outputs": [],
   "execution_count": 6
  },
  {
   "metadata": {},
   "cell_type": "markdown",
   "source": "### Denoise",
   "id": "8876d1c63fdeb4c8"
  },
  {
   "metadata": {
    "ExecuteTime": {
     "end_time": "2025-09-16T19:55:13.259904Z",
     "start_time": "2025-09-16T19:55:13.140037Z"
    }
   },
   "cell_type": "code",
   "source": [
    "sv = echopype.clean.remove_background_noise(\n",
    "    sv, ping_num=5,\n",
    "    range_sample_num=5,\n",
    "    SNR_threshold=\"2.0dB\",\n",
    ")"
   ],
   "id": "40be3d836535abff",
   "outputs": [],
   "execution_count": 7
  },
  {
   "metadata": {},
   "cell_type": "markdown",
   "source": "### Assign Depth",
   "id": "3d90d33a0c6dcc01"
  },
  {
   "metadata": {
    "ExecuteTime": {
     "end_time": "2025-09-16T19:55:13.298828Z",
     "start_time": "2025-09-16T19:55:13.286446Z"
    }
   },
   "cell_type": "code",
   "source": "sv = echopype.consolidate.add_depth(sv, depth_offset = mean_depth, downward = False)",
   "id": "12547319301f50c7",
   "outputs": [],
   "execution_count": 8
  },
  {
   "metadata": {},
   "cell_type": "markdown",
   "source": "### Compute Mean Volume Backscatter and Apply to Grid",
   "id": "337349bb3a31f76e"
  },
  {
   "metadata": {
    "ExecuteTime": {
     "end_time": "2025-09-16T19:55:13.425175Z",
     "start_time": "2025-09-16T19:55:13.326339Z"
    }
   },
   "cell_type": "code",
   "source": [
    "mvbs = echopype.commongrid.compute_MVBS(sv, range_var = 'depth',range_bin = '0.5m', ping_time_bin = '10s', reindex = False, fill_value = np.nan)\n",
    "mvbs = echopype.consolidate.swap_dims_channel_frequency(mvbs)"
   ],
   "id": "93288c301599d72b",
   "outputs": [],
   "execution_count": 9
  },
  {
   "metadata": {},
   "cell_type": "markdown",
   "source": "## Plotting with hvplot",
   "id": "29ed96fa8fa64055"
  },
  {
   "metadata": {
    "jupyter": {
     "is_executing": true
    },
    "ExecuteTime": {
     "start_time": "2025-09-16T19:55:13.435529Z"
    }
   },
   "cell_type": "code",
   "source": "import hvplot.xarray",
   "id": "2eea332e392287ab",
   "outputs": [],
   "execution_count": null
  },
  {
   "metadata": {},
   "cell_type": "code",
   "source": [
    "mvbs[\"Sv\"].hvplot.image(\n",
    "    x=\"ping_time\", y=\"depth\",\n",
    "    color=\"Sv\", rasterize=True,\n",
    "    cmap=\"jet\", clim=(-80, -30),\n",
    "    xlabel=\"Time (UTC)\",\n",
    "    ylabel=\"Depth (m)\",\n",
    ").options(height=800, invert_yaxis=True)"
   ],
   "id": "9883fadb441133c1",
   "outputs": [],
   "execution_count": null
  },
  {
   "metadata": {},
   "cell_type": "code",
   "source": "",
   "id": "165f678138ba52d",
   "outputs": [],
   "execution_count": null
  }
 ],
 "metadata": {
  "kernelspec": {
   "display_name": "Python 3",
   "language": "python",
   "name": "python3"
  },
  "language_info": {
   "codemirror_mode": {
    "name": "ipython",
    "version": 2
   },
   "file_extension": ".py",
   "mimetype": "text/x-python",
   "name": "python",
   "nbconvert_exporter": "python",
   "pygments_lexer": "ipython2",
   "version": "2.7.6"
  }
 },
 "nbformat": 4,
 "nbformat_minor": 5
}
