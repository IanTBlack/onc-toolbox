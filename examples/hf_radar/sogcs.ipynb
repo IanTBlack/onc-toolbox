{
 "cells": [
  {
   "metadata": {},
   "cell_type": "markdown",
   "source": [
    "# Strait of Georgia (SOCGS) HF Radar Surface Currents\n",
    "\n",
    "![gif](../figures/sogcs_hf_radar.gif \"gif\")"
   ],
   "id": "68b62f53732668be"
  },
  {
   "metadata": {
    "ExecuteTime": {
     "end_time": "2025-09-12T14:43:03.582255Z",
     "start_time": "2025-09-12T14:43:02.324829Z"
    }
   },
   "cell_type": "code",
   "source": [
    "import cartopy.crs as ccrs\n",
    "from datetime import datetime, timezone, timedelta\n",
    "import matplotlib\n",
    "import matplotlib.pyplot as plt\n",
    "from matplotlib.animation import FuncAnimation\n",
    "import numpy as np\n",
    "import pandas as pd\n",
    "import os\n",
    "import xarray as xr\n",
    "\n",
    "from ONCToolbox import ONCToolbox, format_datetime"
   ],
   "id": "initial_id",
   "outputs": [],
   "execution_count": 1
  },
  {
   "metadata": {
    "ExecuteTime": {
     "end_time": "2025-09-12T14:43:03.587591Z",
     "start_time": "2025-09-12T14:43:03.583021Z"
    }
   },
   "cell_type": "code",
   "source": [
    "save_dir = 'onc_data'\n",
    "onct = ONCToolbox(save_dir=save_dir)"
   ],
   "id": "9838df0c147c0286",
   "outputs": [],
   "execution_count": 2
  },
  {
   "metadata": {
    "ExecuteTime": {
     "end_time": "2025-09-12T14:54:51.739194Z",
     "start_time": "2025-09-12T14:43:03.587591Z"
    }
   },
   "cell_type": "code",
   "source": [
    "loc_code = 'SOGCS'\n",
    "dev_cat_code = 'OCEANOGRAPHICRADAR'\n",
    "data_prod_code = 'CODARQCSC'\n",
    "ext = 'nc'\n",
    "\n",
    "date_to = datetime.now(timezone.utc) # End of the data request.\n",
    "date_from = date_to - timedelta(days = 10) # Start of the data request.\n",
    "\n",
    "params = {'locationCode': loc_code,\n",
    "          'deviceCategoryCode': dev_cat_code,\n",
    "          'dateFrom': format_datetime(date_from),\n",
    "          'dateTo': format_datetime(date_to),\n",
    "          'extension': ext,\n",
    "          'dataProductCode': data_prod_code}\n",
    "\n",
    "req = onct.requestDataProduct(filters = params)\n",
    "status = onct.runDataProduct(req['dpRequestId'])\n",
    "data_files = []\n",
    "meta_files = []\n",
    "for run_id in status['runIds']:\n",
    "    down = onct.downloadDataProduct(run_id)\n",
    "    for file_info in down:\n",
    "        fn = file_info['file']\n",
    "        fp = os.path.join(save_dir,fn)\n",
    "        if fn.endswith('.nc'):\n",
    "            data_files.append(fp)\n",
    "        elif fn.endswith('.xml'):\n",
    "            meta_files.append(fp)"
   ],
   "id": "70f31279c850cfd",
   "outputs": [
    {
     "name": "stdout",
     "output_type": "stream",
     "text": [
      "Request Id: 27151514\n",
      "Estimated File Size: No estimated file size available.\n",
      "Estimated Processing Time: No estimated processing time available.\n",
      "To cancel the running data product, run 'onc.cancelDataProduct(27151514)'\n",
      "\n",
      "   queued\n",
      "   data product running...........................................................................................................................................................................................................................................................................................................\n",
      "   1 files generated for this data product\n",
      "   complete\n",
      "\n",
      "Downloading data product files with runId 53671947...\n"
     ]
    }
   ],
   "execution_count": 3
  },
  {
   "metadata": {
    "ExecuteTime": {
     "end_time": "2025-09-12T14:54:52.128648Z",
     "start_time": "2025-09-12T14:54:51.739194Z"
    }
   },
   "cell_type": "code",
   "source": [
    "ds_list = [xr.open_dataset(f) for f in data_files]\n",
    "hf = xr.concat(ds_list, dim='time', combine_attrs = 'drop_conflicts')"
   ],
   "id": "ddd621d4f9723cfd",
   "outputs": [],
   "execution_count": 4
  },
  {
   "metadata": {
    "ExecuteTime": {
     "end_time": "2025-09-12T14:54:52.318362Z",
     "start_time": "2025-09-12T14:54:52.129678Z"
    }
   },
   "cell_type": "code",
   "source": [
    "hf['time'] = hf.time.dt.round('1h')\n",
    "hf = hf.where(hf.quality_flag != 4, drop = True)\n",
    "hf = hf[['u','v']]\n",
    "hf['spd'] = np.sqrt(hf.u**2 + hf.v**2)  # Calculate speed for colormap.\n",
    "hf = hf.dropna(dim = 'time', how = 'all')"
   ],
   "id": "5dadae2dba9d4a3e",
   "outputs": [],
   "execution_count": 5
  },
  {
   "metadata": {
    "ExecuteTime": {
     "end_time": "2025-09-12T14:54:54.894845Z",
     "start_time": "2025-09-12T14:54:52.318362Z"
    }
   },
   "cell_type": "code",
   "source": [
    "hfcmap = matplotlib.colormaps.get_cmap('gist_yarg')\n",
    "hfnorm = matplotlib.colors.Normalize(vmin = 0 , vmax = 100) \n",
    "\n",
    "xmin = hf.lon.min()-0.01\n",
    "xmax = hf.lon.max()+0.01\n",
    "ymin = hf.lat.min()-0.01\n",
    "ymax = hf.lat.max()+0.01\n",
    "x_major_locator = 0.3\n",
    "y_major_locator = 0.2\n",
    "\n",
    "t = hf.time.values\n",
    "x = hf.lon.values\n",
    "y = hf.lat.values\n",
    "c = hf.spd\n",
    "u = hf.u\n",
    "v = hf.v\n",
    "\n",
    "crs = ccrs.PlateCarree()\n",
    "fig, ax = plt.subplots(1,1,figsize = (6,5), constrained_layout = True, subplot_kw={'projection': crs})\n",
    "ax.set_extent([xmin, xmax, ymin, ymax])\n",
    "ax.coastlines()\n",
    "\n",
    "ax.set_xticks(np.arange(xmin, xmax,x_major_locator))\n",
    "ax.set_xlabel(r'Longitude ($^{\\circ}E$)')\n",
    "\n",
    "ax.set_yticks(np.arange(ymin, ymax,y_major_locator))\n",
    "ax.set_ylabel(r'Latitude ($^{\\circ}N$)')\n",
    "\n",
    "quiv = ax.quiver(x,y,u[:,:,0],v[:,:,0],c[:,:,0], cmap = hfcmap, norm = hfnorm, transform = crs, angles = 'uv',pivot = 'mid')\n",
    "fig.colorbar(quiv, ax = ax, shrink = 0.45, label = 'Surface Current Speed (cm/s)')\n",
    "\n",
    "def update(frame):\n",
    "    _u = u[:,:,frame]\n",
    "    _v = v[:,:,frame]\n",
    "    _c = c[:,:,frame]\n",
    "    \n",
    "    quiv.set_UVC(_u,_v,_c)\n",
    "    \n",
    "    ax.set_title(pd.to_datetime(t[frame]).strftime('%Y-%m-%dT%H:%M:%SZ'))\n",
    "    \n",
    "    return quiv,\n",
    "\n",
    "\n",
    "ani = FuncAnimation(fig=fig, func=update, frames=len(t), interval=1000, blit = False)\n",
    "ani.save('../figures/sogcs_hf_radar.gif')\n",
    "plt.close()"
   ],
   "id": "b4840a4f814723b9",
   "outputs": [],
   "execution_count": 6
  },
  {
   "metadata": {
    "ExecuteTime": {
     "end_time": "2025-09-12T14:54:54.898579Z",
     "start_time": "2025-09-12T14:54:54.894845Z"
    }
   },
   "cell_type": "code",
   "source": "",
   "id": "1f24a9fac2d393d1",
   "outputs": [],
   "execution_count": 6
  }
 ],
 "metadata": {
  "kernelspec": {
   "display_name": "Python 3",
   "language": "python",
   "name": "python3"
  },
  "language_info": {
   "codemirror_mode": {
    "name": "ipython",
    "version": 2
   },
   "file_extension": ".py",
   "mimetype": "text/x-python",
   "name": "python",
   "nbconvert_exporter": "python",
   "pygments_lexer": "ipython2",
   "version": "2.7.6"
  }
 },
 "nbformat": 4,
 "nbformat_minor": 5
}
