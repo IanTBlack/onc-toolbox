{
 "cells": [
  {
   "cell_type": "code",
   "id": "initial_id",
   "metadata": {
    "collapsed": true
   },
   "source": [
    "from datetime import datetime, timedelta, timezone\n",
    "import os\n",
    "import pandas as pd\n",
    "import xarray as xr\n",
    "\n",
    "from ONCToolbox import ONCToolbox, nan_onc_flags\n",
    "from ONCToolbox.utils.suna import SUNAv2ArchiveFileParser as SAFP"
   ],
   "outputs": [],
   "execution_count": null
  },
  {
   "metadata": {},
   "cell_type": "code",
   "source": [
    "date_to = datetime.now(timezone.utc)\n",
    "date_from = date_to - timedelta(days = 150)"
   ],
   "id": "17a763fd6f832c2e",
   "outputs": [],
   "execution_count": null
  },
  {
   "metadata": {},
   "cell_type": "code",
   "source": [
    "onct = ONCToolbox()\n",
    "safp = SAFP()"
   ],
   "id": "38362231fd523c8e",
   "outputs": [],
   "execution_count": null
  },
  {
   "metadata": {},
   "cell_type": "code",
   "source": [
    "%%time\n",
    "remote_files = onct.find_archive_file_urls(location_code = 'BACVP', device_category_code='NITRATESENSOR', date_from = date_from, date_to= date_to)\n",
    "ds_list = []\n",
    "for remote_file in remote_files:\n",
    "    lines = safp.import_suna_from_url(remote_file)\n",
    "    ds = safp.process_suna_lines(lines)\n",
    "    ds_list.append(ds)\n",
    "suna = xr.combine_by_coords(ds_list, combine_attrs='drop_conflicts')\n",
    "suna.to_netcdf(f'data/bacvp_suna_{date_from.strftime(\"%Y%m%d\")}-{date_to.strftime(\"%Y%m%d\")}.nc')"
   ],
   "id": "d4032893f57edfb8",
   "outputs": [],
   "execution_count": null
  },
  {
   "metadata": {},
   "cell_type": "code",
   "source": [
    "%%time\n",
    "dtr = pd.date_range(start=date_from, end=date_to, freq='1D')\n",
    "\n",
    "for dt in dtr:\n",
    "    bdt = dt.replace(hour=0, minute=0, second=0, microsecond=0)\n",
    "    edt = dt.replace(hour=23, minute=59, second=59, microsecond=999999)\n",
    "    fname = f'data/bacvp_ctd_{bdt.strftime(\"%Y%m%d\")}.nc'\n",
    "    if os.path.isfile(fname):\n",
    "        continue\n",
    "    try:\n",
    "        ctd = onct.get_fullres_data(location_code = 'BACVP', \n",
    "                                    device_category_code = 'CTD', \n",
    "                                   date_from = bdt, \n",
    "                                   date_to = edt, \n",
    "                                   out_as = 'xarray',\n",
    "                                   add_metadata = True)\n",
    "        ctd = nan_onc_flags(ctd)\n",
    "        ctd.to_netcdf(fname)\n",
    "        print(fname)\n",
    "    except:\n",
    "        continue"
   ],
   "id": "af61a8029e4e4c5f",
   "outputs": [],
   "execution_count": null
  },
  {
   "metadata": {},
   "cell_type": "code",
   "source": "",
   "id": "8b3e3fdc7706fb4",
   "outputs": [],
   "execution_count": null
  }
 ],
 "metadata": {
  "kernelspec": {
   "display_name": "Python 3",
   "language": "python",
   "name": "python3"
  },
  "language_info": {
   "codemirror_mode": {
    "name": "ipython",
    "version": 2
   },
   "file_extension": ".py",
   "mimetype": "text/x-python",
   "name": "python",
   "nbconvert_exporter": "python",
   "pygments_lexer": "ipython2",
   "version": "2.7.6"
  }
 },
 "nbformat": 4,
 "nbformat_minor": 5
}
